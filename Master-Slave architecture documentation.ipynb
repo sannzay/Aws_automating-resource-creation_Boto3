{
 "cells": [
  {
   "cell_type": "markdown",
   "metadata": {},
   "source": [
    "### Resource Creating Fuctions "
   ]
  },
  {
   "cell_type": "markdown",
   "metadata": {},
   "source": [
    "#### imports and credentials"
   ]
  },
  {
   "cell_type": "code",
   "execution_count": null,
   "metadata": {},
   "outputs": [],
   "source": [
    "import logging\n",
    "import boto3\n",
    "from botocore.exceptions import ClientError\n",
    "import json\n",
    "\n",
    "ACCESS_KEY = '********************'\n",
    "SECRET_KEY = '****************************************'"
   ]
  },
  {
   "cell_type": "markdown",
   "metadata": {},
   "source": [
    "#### Lambda creation function "
   ]
  },
  {
   "cell_type": "code",
   "execution_count": null,
   "metadata": {},
   "outputs": [],
   "source": [
    "\n",
    "def create_lambda(lambda_name,location, S3_bucket, S3_key, key, value):\n",
    "    \"\"\"\n",
    "    https://boto3.amazonaws.com/v1/documentation/api/latest/reference/services/lambda.html\n",
    "    \"\"\"\n",
    "    \n",
    "    lambda_ = boto3.client('lambda', region_name=location,\n",
    "                           aws_access_key_id=ACCESS_KEY,\n",
    "                           aws_secret_access_key=SECRET_KEY)\n",
    "    try:\n",
    "\n",
    "        response1 =  lambda_.create_function(FunctionName=lambda_name,\n",
    "                                Runtime='python3.6',\n",
    "                                Role='arn:aws:iam::453890640763:role/lambda-role',\n",
    "                                Handler='function.lambda_handler',\n",
    "                                Code={\n",
    "                                    'S3Bucket':S3_bucket ,\n",
    "                                    'S3Key': S3_key,\n",
    "                                    }\n",
    "                               )\n",
    "        response2 = lambda_.tag_resource(\n",
    "                                Resource=response1['FunctionArn'],\n",
    "                                Tags={\n",
    "                                    key : value\n",
    "                                }\n",
    "                            )\n",
    "        \n",
    "        logging.info(json.dumps(response1, indent=4))\n",
    "        logging.info(json.dumps(response2, indent=4))\n",
    "        \n",
    "    except ClientError as e:\n",
    "        logging.error(e)\n",
    "        \n",
    "    return response1\n",
    "        "
   ]
  },
  {
   "cell_type": "markdown",
   "metadata": {},
   "source": [
    "#### S3 Bucket creation function"
   ]
  },
  {
   "cell_type": "code",
   "execution_count": null,
   "metadata": {},
   "outputs": [],
   "source": [
    "def create_bucket(bucket_name, location, key, value):\n",
    "    \"\"\"\n",
    "    https://boto3.amazonaws.com/v1/documentation/api/latest/reference/services/s3.html#S3.Client.create_bucket\n",
    "    \"\"\"\n",
    "    s3 = boto3.client('s3',\n",
    "                      aws_access_key_id=ACCESS_KEY,\n",
    "                      aws_secret_access_key=SECRET_KEY            \n",
    "                     )\n",
    "    \n",
    "    try:\n",
    "        response1 = s3.create_bucket(ACL='private',\n",
    "                                    Bucket=bucket_name,\n",
    "                                    CreateBucketConfiguration={'LocationConstraint': location}\n",
    "                                   )\n",
    "        tag={'TagSet':[{'Key': key, 'Value': value}]}\n",
    "        response2 = s3.put_bucket_tagging(Bucket=bucket_name, Tagging=tag)\n",
    "        \n",
    "        logging.info(json.dumps(response1, indent=4))\n",
    "        logging.info(json.dumps(response2, indent=4))\n",
    "    except ClientError as e:\n",
    "        logging.error(e)\n",
    "        print('error')\n",
    "        \n",
    "    return response1\n"
   ]
  },
  {
   "cell_type": "markdown",
   "metadata": {},
   "source": [
    "#### Sqs creation function"
   ]
  },
  {
   "cell_type": "code",
   "execution_count": null,
   "metadata": {},
   "outputs": [],
   "source": [
    "def create_sqs(queue_name, location):\n",
    "    sqs = boto3.resource('sqs', region_name=location, \n",
    "                    aws_access_key_id=ACCESS_KEY,\n",
    "                    aws_secret_access_key=SECRET_KEY)\n",
    "    queue = sqs.create_queue(QueueName=queue_name, Attributes={'DelaySeconds': '0'}) #Attributes is optional \n",
    "    return queue"
   ]
  },
  {
   "cell_type": "markdown",
   "metadata": {},
   "source": [
    "#### Sqs send message function"
   ]
  },
  {
   "cell_type": "code",
   "execution_count": null,
   "metadata": {},
   "outputs": [],
   "source": [
    "def sqs_send_msg(queue_name, message):\n",
    "    queue = sqs.get_queue_by_name(QueueName=queue_name)\n",
    "    response = queue.send_message(MessageBody=message)\n",
    "    return response"
   ]
  },
  {
   "cell_type": "markdown",
   "metadata": {},
   "source": [
    "#### S3-lambda trigger creation function"
   ]
  },
  {
   "cell_type": "code",
   "execution_count": null,
   "metadata": {},
   "outputs": [],
   "source": [
    "def create_s3_trigger(bucket_name, lambda_arn, location):\n",
    "    \n",
    "    #lambda1 and s3 are the client objects of lambda and s3_bucket respectively\n",
    "    s3 = boto3.client('s3',\n",
    "                    aws_access_key_id=ACCESS_KEY,\n",
    "                    aws_secret_access_key=SECRET_KEY)\n",
    "    \n",
    "    lambda_ = boto3.client('lambda', region_name=location,\n",
    "                       aws_access_key_id=ACCESS_KEY,\n",
    "                       aws_secret_access_key=SECRET_KEY)\n",
    "    \n",
    "    response1 = lambda_.add_permission(FunctionName=lambda_arn,\n",
    "                                       StatementId=bucket_name+'response1-id-1',\n",
    "                                       Action='lambda:InvokeFunction',\n",
    "                                       Principal='s3.amazonaws.com',\n",
    "                                       SourceArn='arn:aws:s3:::'+bucket_name\n",
    "                                      )\n",
    "    response2 = lambda_.get_policy(FunctionName=lambda_arn)\n",
    "    \n",
    "    #s3 is s3 bucket boto3 client\n",
    "    response3 = s3.put_bucket_notification_configuration(\n",
    "                                    Bucket=bucket_name,\n",
    "                                    NotificationConfiguration= {'LambdaFunctionConfigurations':[{'LambdaFunctionArn': lambda_arn, 'Events': ['s3:ObjectCreated:*']}]})\n"
   ]
  },
  {
   "cell_type": "markdown",
   "metadata": {},
   "source": [
    "#### sqs-lambda trigger creation functionm"
   ]
  },
  {
   "cell_type": "code",
   "execution_count": null,
   "metadata": {},
   "outputs": [],
   "source": [
    "def create_sqs_trigger(sqs_arn, lambda_arn, location):\n",
    "    \n",
    "    lambda_ = boto3.client('lambda', region_name=location,\n",
    "                       aws_access_key_id=ACCESS_KEY,\n",
    "                       aws_secret_access_key=SECRET_KEY)\n",
    "    \n",
    "    response1 = lambda_.create_event_source_mapping(\n",
    "    EventSourceArn=sqs_arn, #this sqs arn can be replaced with kinesis or dynamoDB arn\n",
    "    FunctionName=lambda_arn,\n",
    "    Enabled=False\n",
    "#     BatchSize=123\n",
    "#     StartingPosition='TRIM_HORIZON'|'LATEST'|'AT_TIMESTAMP',\n",
    "#     StartingPositionTimestamp=datetime(2015, 1, 1)\n",
    "    )\n",
    "    \n",
    "\n",
    "location = 'ap-south-1'\n",
    "# lambda_response = create_lambda()\n",
    "# sqs_response = create_sqs()\n",
    "# sqs_arn = sqs_response['FunctionArn']\n",
    "# lambda_arn = lambda_response['FunctionArn']\n",
    "\n",
    "# create_sqs_trigger(sqs_arn, lambda_arn, location)\n",
    "sqs_arn = 'arn:aws:sqs:ap-south-1:453890640763:first-queue'\n",
    "lambda_arn = 'arn:aws:lambda:ap-south-1:453890640763:function:sqs'\n",
    "create_sqs_trigger(sqs_arn, lambda_arn, location)"
   ]
  },
  {
   "cell_type": "markdown",
   "metadata": {},
   "source": [
    "### Master Lambda Creation"
   ]
  },
  {
   "cell_type": "code",
   "execution_count": null,
   "metadata": {},
   "outputs": [],
   "source": [
    "lambda_name = 'master'\n",
    "location = 'ap-south-1'\n",
    "key = 'flag'\n",
    "value = 'masterlambdaflag'\n",
    "S3_bucket = 'sannzay2' #bucket name\n",
    "S3_key = 'function.zip'\n",
    "\n",
    "create_lambda(lambda_name,location, S3_bucket, S3_key, key, value)\n",
    "\n",
    "#fuction.zip contains lambda_function.py(along with the required packages installed) which has the following code.\n",
    "#Make sure the handler in lambda is set to lambda_function.lambda_handler\n"
   ]
  },
  {
   "cell_type": "markdown",
   "metadata": {},
   "source": [
    "```\n",
    "import json, boto3, time\n",
    "\n",
    "ACCESS_KEY = '********************'\n",
    "SECRET_KEY = '****************************************'\n",
    "\n",
    "def lambda_handler(event, context):\n",
    "    #print(event['queryStringParameters']['name'])\t\n",
    "    print(event['name'])\n",
    "    \n",
    "    bucketname = event['name'] + 's3'\n",
    "    key = 'flag'\n",
    "    value = event['name'] + '_flag'\n",
    "    \n",
    "    data = f'''{{\n",
    "\t\"bucketname\" : \"{bucketname}\",\n",
    "\t\"key\" : \"{key}\",\n",
    "\t\"value\" : \"{value}\"\n",
    "}}'''\n",
    " \n",
    "    with open('/tmp/temp.json', 'w') as f:\n",
    "        f.write(data)\n",
    "    with open('/tmp/temp.json', 'r') as r:\n",
    "        file_object = r.read()\n",
    "\n",
    "\n",
    "        client = boto3.client('s3',\n",
    "                        aws_access_key_id=ACCESS_KEY,\n",
    "                        aws_secret_access_key=SECRET_KEY)\n",
    "\n",
    "        client.put_object(Body=file_object, Bucket='slave-1', Key='config.json')\n",
    "        client.put_object(Body=file_object, Bucket='slave-2', Key='config.json')\n",
    "        client.put_object(Body=file_object, Bucket='slave-3', Key='config.json')\n",
    "\n",
    "```"
   ]
  },
  {
   "cell_type": "markdown",
   "metadata": {},
   "source": [
    "### Slave s3 buckets creation"
   ]
  },
  {
   "cell_type": "markdown",
   "metadata": {},
   "source": [
    "#### slave-s3-1"
   ]
  },
  {
   "cell_type": "code",
   "execution_count": null,
   "metadata": {},
   "outputs": [],
   "source": [
    "bucket_name = 'slave-1'\n",
    "location = 'ap-south-1'\n",
    "key = 'flag'\n",
    "value = 'slave-1-bucketflag'\n",
    "\n",
    "create_bucket(bucket_name, location, key, value)"
   ]
  },
  {
   "cell_type": "markdown",
   "metadata": {},
   "source": [
    "#### slave-s3-2"
   ]
  },
  {
   "cell_type": "code",
   "execution_count": null,
   "metadata": {},
   "outputs": [],
   "source": [
    "bucket_name = 'slave-2'\n",
    "location = 'ap-south-1'\n",
    "key = 'flag'\n",
    "value = 'slave-2-bucketflag'\n",
    "\n",
    "create_bucket(bucket_name, location, key, value)"
   ]
  },
  {
   "cell_type": "markdown",
   "metadata": {},
   "source": [
    "#### slave-s3-3"
   ]
  },
  {
   "cell_type": "code",
   "execution_count": null,
   "metadata": {},
   "outputs": [],
   "source": [
    "bucket_name = 'slave-3'\n",
    "location = 'ap-south-1'\n",
    "key = 'flag'\n",
    "value = 'slave-3-bucketflag'\n",
    "\n",
    "create_bucket(bucket_name, location, key, value)"
   ]
  },
  {
   "cell_type": "markdown",
   "metadata": {},
   "source": [
    "### Slave lambda creation "
   ]
  },
  {
   "cell_type": "markdown",
   "metadata": {},
   "source": [
    "#### Slave-lambda-1"
   ]
  },
  {
   "cell_type": "code",
   "execution_count": null,
   "metadata": {},
   "outputs": [],
   "source": [
    "lambda_name = 'slave-1'\n",
    "location = 'ap-south-1'\n",
    "key = 'flag'\n",
    "value = 'slave-1-lambdaflag'\n",
    "S3_bucket = 'sannzay2'\n",
    "S3_key = 'function.zip'\n",
    "\n",
    "slave_1_lambda = create_lambda(lambda_name,location, S3_bucket, S3_key, key, value)\n",
    "\n",
    "#fuction.zip contains lambda_function.py(along with the required packages installed) which has the following code.\n",
    "#Make sure the handler in lambda is set to lambda_function.lambda_handler"
   ]
  },
  {
   "cell_type": "markdown",
   "metadata": {},
   "source": [
    "```\n",
    "import json, boto3, time\n",
    "\n",
    "ACCESS_KEY = '********************'\n",
    "SECRET_KEY = '****************************************'\n",
    "\n",
    "def create_bucket(bucket_name, location, key, value):\n",
    "    \"\"\"\n",
    "    https://boto3.amazonaws.com/v1/documentation/api/latest/reference/services/s3.html#S3.Client.create_bucket\n",
    "    \"\"\"\n",
    "    s3 = boto3.client('s3',\n",
    "                      aws_access_key_id=ACCESS_KEY,\n",
    "                      aws_secret_access_key=SECRET_KEY,\n",
    "#                       region_name=location\n",
    "                     \n",
    "                     )\n",
    "    \n",
    "\n",
    "    response1 = s3.create_bucket(ACL='private',\n",
    "                                    Bucket=bucket_name,\n",
    "                                    CreateBucketConfiguration={'LocationConstraint': location}\n",
    "                                   )\n",
    "    tag={'TagSet':[{'Key': key, 'Value': value}]}\n",
    "    response2 = s3.put_bucket_tagging(Bucket=bucket_name, Tagging=tag)\n",
    "        \n",
    "    #logging.info(json.dumps(response1, indent=4))\n",
    "    #logging.info(json.dumps(response2, indent=4))\n",
    "\n",
    "#return response1\n",
    "\n",
    "def lambda_handler(event, context):\n",
    "    print('Below is the event\\n')\n",
    "    print(event)\n",
    "    s3 = boto3.client('s3',\n",
    "                      aws_access_key_id=ACCESS_KEY,\n",
    "                      aws_secret_access_key=SECRET_KEY,\n",
    "#                       region_name=location\n",
    "                     \n",
    "                     )    \n",
    "    s3.download_file('slave-1', 'config.json', '/tmp/config.json')\n",
    "\n",
    "    with open('/tmp/config.json', 'r') as r:\n",
    "        data = r.read()\n",
    "    print(type(data))\n",
    "    print(data)\n",
    "    file_ = json.loads(data)\n",
    "    print('Text is below\\n')\n",
    "    print(file_)\n",
    "    print(file_['bucketname'])\n",
    "    bucketname = file_['bucketname']\n",
    "    \n",
    "    \n",
    "    location = 'ap-south-1'\n",
    "    key = file_['key']\n",
    "    value = file_['value']\n",
    "    \n",
    "    create_bucket(bucketname, location, key, value)\n",
    "```"
   ]
  },
  {
   "cell_type": "markdown",
   "metadata": {},
   "source": [
    "#### Slave-lambda-2"
   ]
  },
  {
   "cell_type": "code",
   "execution_count": null,
   "metadata": {},
   "outputs": [],
   "source": [
    "lambda_name = 'slave-2'\n",
    "location = 'ap-south-1'\n",
    "key = 'flag'\n",
    "value = 'slave-2-lambdaflag'\n",
    "S3_bucket = 'sannzay2'\n",
    "S3_key = 'function.zip'\n",
    "\n",
    "slave_2_lambda = create_lambda(lambda_name,location, S3_bucket, S3_key, key, value)\n",
    "\n",
    "#fuction.zip contains lambda_function.py(along with the required packages installed).\n",
    "#Make sure the handler in lambda is set to lambda_function.lambda_handler"
   ]
  },
  {
   "cell_type": "markdown",
   "metadata": {},
   "source": [
    "#### Slave-lambda-3"
   ]
  },
  {
   "cell_type": "code",
   "execution_count": null,
   "metadata": {},
   "outputs": [],
   "source": [
    "lambda_name = 'slave-3'\n",
    "location = 'ap-south-1'\n",
    "key = 'flag'\n",
    "value = 'slave-3-lambdaflag'\n",
    "S3_bucket = 'sannzay2'\n",
    "S3_key = 'function.zip'\n",
    "\n",
    "slave_1_lambda = create_lambda(lambda_name,location, S3_bucket, S3_key, key, value)\n",
    "\n",
    "#fuction.zip contains lambda_function.py(along with the required packages installed).\n",
    "#Make sure the handler in lambda is set to lambda_function.lambda_handler"
   ]
  },
  {
   "cell_type": "markdown",
   "metadata": {},
   "source": [
    "### Attaching all the triggers to respective resources"
   ]
  },
  {
   "cell_type": "markdown",
   "metadata": {},
   "source": [
    "#### Attaching respective s3-slaves to lambda-slaves"
   ]
  },
  {
   "cell_type": "code",
   "execution_count": null,
   "metadata": {},
   "outputs": [],
   "source": [
    "location = 'ap-south-1'\n",
    "bucket_name = 'slave-1'\n",
    "\n",
    "lambda_arn = slave_1_lambda['FunctionArn']\n",
    "\n",
    "create_s3_trigger(bucket_name, lambda_arn, location)"
   ]
  },
  {
   "cell_type": "code",
   "execution_count": null,
   "metadata": {},
   "outputs": [],
   "source": [
    "location = 'ap-south-1'\n",
    "bucket_name = 'slave-2'\n",
    "\n",
    "lambda_arn = slave_2_lambda['FunctionArn']\n",
    "\n",
    "create_s3_trigger(bucket_name, lambda_arn, location)"
   ]
  },
  {
   "cell_type": "code",
   "execution_count": null,
   "metadata": {},
   "outputs": [],
   "source": [
    "location = 'ap-south-1'\n",
    "bucket_name = 'slave-2'\n",
    "\n",
    "lambda_arn = slave_2_lambda['FunctionArn']\n",
    "\n",
    "create_s3_trigger(bucket_name, lambda_arn, location)"
   ]
  },
  {
   "cell_type": "code",
   "execution_count": null,
   "metadata": {},
   "outputs": [],
   "source": [
    "## Now attach the Master-lambda to the api-gateway and trigger with api\n",
    "\n",
    "## When the api is created, create a 'GET' method and assign the lambda name there. In the 'Method execution' page,\n",
    "#click the Integration request' section and go to the'Mapping templates' and type 'application/json' and \n",
    "# enter [\"name\" : \"$input.params('name')\"}'] in the json format in the space provided.\n",
    "\n",
    "## The api name attached to the master-lambda is 'master_trigger'\n",
    "\n",
    "## The url of that is \"https://rm2tbrgb67.execute-api.ap-south-1.amazonaws.com/initial_stage\"\n",
    "\n",
    "## Attach the required message with the link as:\n",
    "#\"https://rm2tbrgb67.execute-api.ap-south-1.amazonaws.com/initial_stage?name=brandson\" with message=brandson"
   ]
  },
  {
   "cell_type": "code",
   "execution_count": 5,
   "metadata": {},
   "outputs": [],
   "source": [
    "## The master-lambda is triggered by an api-gateway with a message.\n",
    "\n",
    "## When triggered this lambda function creates a file containing name,key,value generated with the help \n",
    "# of message and save it into the three slave buckets.\n",
    "\n",
    "## Those buckets inturn triggers 3 individual lambda functions namely, slave-1, slave-2 and slave-3.\n",
    "\n",
    "## slave1-lambda function is designed to create an s3 bucket with the \n",
    "# information present in the file which is used to trigger it.\n",
    "\n",
    "## Likewise slave-2 and slave-3 lambdas can be designed to create required resources for the client."
   ]
  },
  {
   "cell_type": "code",
   "execution_count": null,
   "metadata": {},
   "outputs": [],
   "source": []
  }
 ],
 "metadata": {
  "kernelspec": {
   "display_name": "Python 3",
   "language": "python",
   "name": "python3"
  },
  "language_info": {
   "codemirror_mode": {
    "name": "ipython",
    "version": 3
   },
   "file_extension": ".py",
   "mimetype": "text/x-python",
   "name": "python",
   "nbconvert_exporter": "python",
   "pygments_lexer": "ipython3",
   "version": "3.6.7"
  }
 },
 "nbformat": 4,
 "nbformat_minor": 4
}
